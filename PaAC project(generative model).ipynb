{
 "cells": [
  {
   "cell_type": "code",
   "execution_count": 1,
   "id": "01eb5e32",
   "metadata": {},
   "outputs": [],
   "source": [
    "import numpy as np\n",
    "\n",
    "arr = np.load(\"ch2_ohr_ncp_20200825T1127278043_d_img_d18.npz\", allow_pickle= True)['arr_0']"
   ]
  },
  {
   "cell_type": "code",
   "execution_count": 2,
   "id": "9af8d0c1",
   "metadata": {},
   "outputs": [
    {
     "data": {
      "text/plain": [
       "array([[87, 85, 87, ...,  0,  0,  0],\n",
       "       [90, 85, 87, ...,  0,  0,  0],\n",
       "       [99, 92, 91, ..., 35, 31, 24],\n",
       "       ...,\n",
       "       [46, 49, 48, ..., 23, 19, 17],\n",
       "       [42, 44, 40, ..., 24, 23, 22],\n",
       "       [ 0,  0,  0, ...,  0,  0,  0]], dtype=uint8)"
      ]
     },
     "execution_count": 2,
     "metadata": {},
     "output_type": "execute_result"
    }
   ],
   "source": [
    "arr"
   ]
  },
  {
   "cell_type": "code",
   "execution_count": 3,
   "id": "5b3724c5",
   "metadata": {},
   "outputs": [
    {
     "data": {
      "text/plain": [
       "(93693, 12000)"
      ]
     },
     "execution_count": 3,
     "metadata": {},
     "output_type": "execute_result"
    }
   ],
   "source": [
    "arr.shape"
   ]
  },
  {
   "cell_type": "code",
   "execution_count": 4,
   "id": "b895d68b",
   "metadata": {},
   "outputs": [],
   "source": [
    "arr = np.float32(arr)"
   ]
  },
  {
   "cell_type": "code",
   "execution_count": 5,
   "id": "637c17cc",
   "metadata": {},
   "outputs": [],
   "source": [
    "arr = arr[:93632,:11968]"
   ]
  },
  {
   "cell_type": "code",
   "execution_count": 6,
   "id": "eb1be822",
   "metadata": {},
   "outputs": [
    {
     "data": {
      "text/plain": [
       "(93632, 11968)"
      ]
     },
     "execution_count": 6,
     "metadata": {},
     "output_type": "execute_result"
    }
   ],
   "source": [
    "arr.shape"
   ]
  },
  {
   "cell_type": "code",
   "execution_count": 7,
   "id": "9d3c72ff",
   "metadata": {},
   "outputs": [
    {
     "ename": "KeyboardInterrupt",
     "evalue": "",
     "output_type": "error",
     "traceback": [
      "\u001b[1;31m---------------------------------------------------------------------------\u001b[0m",
      "\u001b[1;31mKeyboardInterrupt\u001b[0m                         Traceback (most recent call last)",
      "\u001b[1;32m~\\AppData\\Local\\Temp/ipykernel_22500/1164547370.py\u001b[0m in \u001b[0;36m<module>\u001b[1;34m\u001b[0m\n\u001b[0;32m     10\u001b[0m     \u001b[0mx\u001b[0m \u001b[1;33m=\u001b[0m \u001b[1;33m(\u001b[0m\u001b[0mi\u001b[0m \u001b[1;33m*\u001b[0m \u001b[1;36m64\u001b[0m\u001b[1;33m)\u001b[0m \u001b[1;33m%\u001b[0m \u001b[0mp\u001b[0m\u001b[1;33m\u001b[0m\u001b[1;33m\u001b[0m\u001b[0m\n\u001b[0;32m     11\u001b[0m     \u001b[0my\u001b[0m \u001b[1;33m=\u001b[0m \u001b[1;33m(\u001b[0m\u001b[0mi\u001b[0m \u001b[1;33m*\u001b[0m \u001b[1;36m64\u001b[0m\u001b[1;33m)\u001b[0m \u001b[1;33m//\u001b[0m \u001b[0mp\u001b[0m \u001b[1;33m*\u001b[0m \u001b[1;36m64\u001b[0m\u001b[1;33m\u001b[0m\u001b[1;33m\u001b[0m\u001b[0m\n\u001b[1;32m---> 12\u001b[1;33m     \u001b[0mresult\u001b[0m\u001b[1;33m[\u001b[0m\u001b[0mi\u001b[0m\u001b[1;33m]\u001b[0m \u001b[1;33m=\u001b[0m \u001b[0marr\u001b[0m\u001b[1;33m[\u001b[0m\u001b[0my\u001b[0m\u001b[1;33m:\u001b[0m\u001b[0my\u001b[0m\u001b[1;33m+\u001b[0m\u001b[1;36m64\u001b[0m\u001b[1;33m,\u001b[0m \u001b[0mx\u001b[0m\u001b[1;33m:\u001b[0m\u001b[0mx\u001b[0m\u001b[1;33m+\u001b[0m\u001b[1;36m64\u001b[0m\u001b[1;33m]\u001b[0m\u001b[1;33m/\u001b[0m\u001b[1;36m255\u001b[0m\u001b[1;33m\u001b[0m\u001b[1;33m\u001b[0m\u001b[0m\n\u001b[0m\u001b[0;32m     13\u001b[0m \u001b[1;33m\u001b[0m\u001b[0m\n\u001b[0;32m     14\u001b[0m \u001b[0mprint\u001b[0m\u001b[1;33m(\u001b[0m\u001b[0mresult\u001b[0m\u001b[1;33m.\u001b[0m\u001b[0mshape\u001b[0m\u001b[1;33m)\u001b[0m\u001b[1;33m\u001b[0m\u001b[1;33m\u001b[0m\u001b[0m\n",
      "\u001b[1;31mKeyboardInterrupt\u001b[0m: "
     ]
    }
   ],
   "source": [
    "# Define the size of the 2D array\n",
    "m, p = 93632, 11968\n",
    "\n",
    "# Define the size of the 3D array\n",
    "n = m * p // (64 * 64)\n",
    "result = np.zeros((n, 64, 64))\n",
    "\n",
    "# Convert the 2D array to a 3D array\n",
    "for i in range(n):\n",
    "    x = (i * 64) % p\n",
    "    y = (i * 64) // p * 64\n",
    "    result[i] = arr[y:y+64, x:x+64]/255\n",
    "\n",
    "print(result.shape)"
   ]
  },
  {
   "cell_type": "code",
   "execution_count": 120,
   "id": "b306f643",
   "metadata": {},
   "outputs": [
    {
     "data": {
      "text/plain": [
       "<matplotlib.image.AxesImage at 0x2256837e250>"
      ]
     },
     "execution_count": 120,
     "metadata": {},
     "output_type": "execute_result"
    },
    {
     "data": {
      "image/png": "[encoded data removed]",
      "text/plain": [
       "<Figure size 432x288 with 1 Axes>"
      ]
     },
     "metadata": {
      "needs_background": "light"
     },
     "output_type": "display_data"
    }
   ],
   "source": [
    "import matplotlib.pyplot as plt\n",
    "%matplotlib inline\n",
    "\n",
    "plt.imshow(result[56])"
   ]
  },
  {
   "cell_type": "code",
   "execution_count": 121,
   "id": "6f973eda",
   "metadata": {},
   "outputs": [],
   "source": [
    "result=np.reshape(result,(2628,64,64,1))"
   ]
  },
  {
   "cell_type": "code",
   "execution_count": 122,
   "id": "17e197b1",
   "metadata": {},
   "outputs": [],
   "source": [
    "import keras\n",
    "import tensorflow\n",
    "from keras.utils import plot_model\n",
    "from keras.layers import Input, Flatten, Dense, Conv2D, Conv2DTranspose, BatchNormalization, LeakyReLU, Dropout, Activation, Reshape, Lambda\n",
    "from keras.models import Model\n",
    "from keras.optimizers import Adam\n",
    "from keras.utils import to_categorical\n",
    "import keras.backend as K \n",
    "from keras.layers.convolutional import Conv2D\n",
    "from keras.layers.pooling import MaxPooling2D"
   ]
  },
  {
   "cell_type": "markdown",
   "id": "ddb8edaa",
   "metadata": {},
   "source": [
    "ENCODER"
   ]
  },
  {
   "cell_type": "code",
   "execution_count": 123,
   "id": "611b43f3",
   "metadata": {},
   "outputs": [],
   "source": [
    "encoder_input = Input(shape=(64,64,1), name='encoder_input')"
   ]
  },
  {
   "cell_type": "code",
   "execution_count": 124,
   "id": "11e6afdc",
   "metadata": {},
   "outputs": [],
   "source": [
    "x = encoder_input"
   ]
  },
  {
   "cell_type": "code",
   "execution_count": 125,
   "id": "8bde7a95",
   "metadata": {},
   "outputs": [],
   "source": [
    "# n_layers_encoder = 2\n",
    "# input_dim = (64,64,1)\n",
    "# encoder_conv_filters = [32,1,64, 64]\n",
    "# encoder_conv_kernel_size = [3,3,3,3]\n",
    "# encoder_conv_strides = [1,2,2,1]\n",
    "# decoder_conv_t_filters = [64,64,32,1]\n",
    "# decoder_conv_t_kernel_size = [3,3,3,3]\n",
    "# decoder_conv_t_strides = [1,2,2,1]\n",
    "# z_dim = 64*64\n",
    "\n"
   ]
  },
  {
   "cell_type": "code",
   "execution_count": 126,
   "id": "08f3cb09",
   "metadata": {},
   "outputs": [],
   "source": [
    "# for i in range(n_layers_encoder):\n",
    "#     conv_layer = Conv2D(\n",
    "#     filters = encoder_conv_filters[i]\n",
    "#     , kernel_size = encoder_conv_kernel_size[i]\n",
    "#     , strides = encoder_conv_strides[i]\n",
    "#     , padding = 'same'\n",
    "#     , name = 'encoder_conv_' + str(i)\n",
    "#     )\n",
    "#     x = conv_layer(x)\n",
    "#     #if i//2:\n",
    "#     x = BatchNormalization()(x)\n",
    "#     x = LeakyReLU()(x)\n",
    "#     x = Dropout(rate = 0.25)(x)\n",
    "    "
   ]
  },
  {
   "cell_type": "code",
   "execution_count": 127,
   "id": "907195d7",
   "metadata": {},
   "outputs": [],
   "source": [
    "# shape_before_flattening = K.int_shape(x)[1:]\n",
    "# x = Flatten()(x)"
   ]
  },
  {
   "cell_type": "code",
   "execution_count": 128,
   "id": "6ed7a1a8",
   "metadata": {},
   "outputs": [],
   "source": [
    "# mu = Dense(z_dim, name='mu')(x) \n",
    "# log_var = Dense(z_dim, name='log_var')(x)\n",
    "# encoder_mu_log_var = Model(encoder_input, (mu, log_var)) \n",
    "\n",
    "# def sampling(args):\n",
    "#     mu, log_var = args\n",
    "#     epsilon = K.random_normal(shape=K.shape(mu), mean=0., stddev=1.)\n",
    "#     return mu + K.exp(log_var / 2) * epsilon\n",
    "# encoder_output = Lambda(sampling, name='encoder_output')([mu, log_var]) "
   ]
  },
  {
   "cell_type": "code",
   "execution_count": 129,
   "id": "fb91abfe",
   "metadata": {},
   "outputs": [],
   "source": [
    "x = Conv2D(filters = 64, kernel_size = 2\n",
    " , strides = 2, padding = 'same')(encoder_input)\n",
    "x = BatchNormalization()(x)\n",
    "x = LeakyReLU()(x)\n"
   ]
  },
  {
   "cell_type": "code",
   "execution_count": 130,
   "id": "e400faf5",
   "metadata": {},
   "outputs": [],
   "source": [
    "x = Conv2D(filters = 32, kernel_size = 2, strides = 2)(x)\n",
    "x = BatchNormalization()(x)\n",
    "x = LeakyReLU()(x)"
   ]
  },
  {
   "cell_type": "code",
   "execution_count": 131,
   "id": "0c32651a",
   "metadata": {},
   "outputs": [],
   "source": [
    "shape_before_flattening = K.int_shape(x)[1:]"
   ]
  },
  {
   "cell_type": "code",
   "execution_count": 132,
   "id": "29c38b53",
   "metadata": {},
   "outputs": [],
   "source": [
    "x = Flatten()(x)\n",
    "output_layer = Activation('softmax')(x)\n",
    "\n",
    "model = Model(encoder_input, output_layer)"
   ]
  },
  {
   "cell_type": "markdown",
   "id": "9c094eb4",
   "metadata": {},
   "source": [
    "DECODER"
   ]
  },
  {
   "cell_type": "code",
   "execution_count": 133,
   "id": "29ebf3fe",
   "metadata": {},
   "outputs": [],
   "source": [
    "decoder_input = Input(shape=(64*64,), name='encoder_output')"
   ]
  },
  {
   "cell_type": "code",
   "execution_count": 134,
   "id": "e93da4b8",
   "metadata": {},
   "outputs": [],
   "source": [
    "# # x = Dense(np.prod(shape_before_flattening))(encoder_output) \n",
    "# x = Reshape(shape_before_flattening)(encoder_output)"
   ]
  },
  {
   "cell_type": "code",
   "execution_count": 135,
   "id": "9655aec7",
   "metadata": {},
   "outputs": [],
   "source": [
    "# n_layers_decoder=1\n",
    "# for i in range(n_layers_decoder):\n",
    "#     conv_t_layer = Conv2DTranspose(\n",
    "#     filters = decoder_conv_t_filters[i]\n",
    "#     ,kernel_size = decoder_conv_t_kernel_size[i]\n",
    "#     ,strides = decoder_conv_t_strides[i]\n",
    "#     ,padding = 'same'\n",
    "#     ,name = 'decoder_conv_t_' + str(i)\n",
    "#     )\n",
    "#     x = conv_t_layer(x) \n",
    "# #     x = BatchNormalization()(x)\n",
    "# #     if (i < n_layers_decoder - 1)  and i//2:\n",
    "# #         x = LeakyReLU()(x)\n",
    "# #     else:\n",
    "#     x = Activation('sigmoid')(x)\n",
    "\n",
    "# #     x = Dropout(rate = 0.25)(x)\n"
   ]
  },
  {
   "cell_type": "code",
   "execution_count": 136,
   "id": "1bc74286",
   "metadata": {},
   "outputs": [],
   "source": [
    "# decoder_output = x"
   ]
  },
  {
   "cell_type": "code",
   "execution_count": 137,
   "id": "0d4b5a78",
   "metadata": {},
   "outputs": [],
   "source": [
    " #decoder = Model(decoder_input, decoder_output)"
   ]
  },
  {
   "cell_type": "code",
   "execution_count": 138,
   "id": "e209b209",
   "metadata": {},
   "outputs": [],
   "source": [
    "#decoder.summary()"
   ]
  },
  {
   "cell_type": "code",
   "execution_count": 139,
   "id": "68bd93bc",
   "metadata": {
    "scrolled": false
   },
   "outputs": [],
   "source": [
    "# model = Model(encoder_input,decoder_output)"
   ]
  },
  {
   "cell_type": "code",
   "execution_count": 140,
   "id": "6f2fe6ec",
   "metadata": {},
   "outputs": [],
   "source": [
    "# model.summary()"
   ]
  },
  {
   "cell_type": "code",
   "execution_count": 141,
   "id": "89756cc8",
   "metadata": {},
   "outputs": [],
   "source": [
    "y = Reshape(shape_before_flattening)(x)"
   ]
  },
  {
   "cell_type": "code",
   "execution_count": 142,
   "id": "53bb5682",
   "metadata": {},
   "outputs": [],
   "source": [
    "conv1 = Conv2DTranspose(filters = 64, kernel_size = 2, strides = 2)(y)"
   ]
  },
  {
   "cell_type": "code",
   "execution_count": 143,
   "id": "bba5a836",
   "metadata": {},
   "outputs": [],
   "source": [
    "conv2 = Conv2DTranspose(filters = 1, kernel_size = 2, strides = 2)(conv1)"
   ]
  },
  {
   "cell_type": "code",
   "execution_count": 144,
   "id": "e5a4ff0d",
   "metadata": {
    "scrolled": true
   },
   "outputs": [
    {
     "name": "stdout",
     "output_type": "stream",
     "text": [
      "Model: \"model_7\"\n",
      "_________________________________________________________________\n",
      " Layer (type)                Output Shape              Param #   \n",
      "=================================================================\n",
      " encoder_input (InputLayer)  [(None, 64, 64, 1)]       0         \n",
      "                                                                 \n",
      " conv2d_5 (Conv2D)           (None, 32, 32, 64)        320       \n",
      "                                                                 \n",
      " batch_normalization_4 (Batc  (None, 32, 32, 64)       256       \n",
      " hNormalization)                                                 \n",
      "                                                                 \n",
      " leaky_re_lu_4 (LeakyReLU)   (None, 32, 32, 64)        0         \n",
      "                                                                 \n",
      " conv2d_6 (Conv2D)           (None, 16, 16, 32)        8224      \n",
      "                                                                 \n",
      " batch_normalization_5 (Batc  (None, 16, 16, 32)       128       \n",
      " hNormalization)                                                 \n",
      "                                                                 \n",
      " leaky_re_lu_5 (LeakyReLU)   (None, 16, 16, 32)        0         \n",
      "                                                                 \n",
      " flatten_3 (Flatten)         (None, 8192)              0         \n",
      "                                                                 \n",
      " reshape_2 (Reshape)         (None, 16, 16, 32)        0         \n",
      "                                                                 \n",
      " conv2d_transpose_4 (Conv2DT  (None, 32, 32, 64)       8256      \n",
      " ranspose)                                                       \n",
      "                                                                 \n",
      " conv2d_transpose_5 (Conv2DT  (None, 64, 64, 1)        257       \n",
      " ranspose)                                                       \n",
      "                                                                 \n",
      "=================================================================\n",
      "Total params: 17,441\n",
      "Trainable params: 17,249\n",
      "Non-trainable params: 192\n",
      "_________________________________________________________________\n"
     ]
    }
   ],
   "source": [
    "model = Model(encoder_input, conv2)\n",
    "model.summary()"
   ]
  },
  {
   "cell_type": "code",
   "execution_count": null,
   "id": "23b20323",
   "metadata": {},
   "outputs": [],
   "source": []
  },
  {
   "cell_type": "code",
   "execution_count": 145,
   "id": "e3e49b53",
   "metadata": {},
   "outputs": [],
   "source": [
    "class AutoencoderLoss(tensorflow.keras.losses.Loss):\n",
    "    def __init__(self):\n",
    "        super(AutoencoderLoss, self).__init__()\n",
    "        self.loss_fn = tensorflow.keras.losses.MeanSquaredError()  # mean squared error loss\n",
    "    \n",
    "    def call(self, input, output):\n",
    "        loss = self.loss_fn(input, output)\n",
    "        return loss\n",
    "\n",
    "\n",
    "los = AutoencoderLoss()\n",
    "\n",
    "optimizer = keras.optimizers.Adam(lr = 0.005)\n",
    "model.compile(optimizer=optimizer, loss= los)\n"
   ]
  },
  {
   "cell_type": "code",
   "execution_count": 146,
   "id": "578b344d",
   "metadata": {},
   "outputs": [],
   "source": [
    "# learning_rate=0.0005\n",
    "# r_loss_factor=10\n",
    "# optimizer = Adam(lr=learning_rate)\n",
    "\n",
    "# def vae_r_loss(y_true, y_pred):\n",
    "#     r_loss = K.mean(K.square(y_true - y_pred), axis = [1,2,3])\n",
    "#     return r_loss_factor * r_loss\n",
    "# def vae_kl_loss(y_true, y_pred):\n",
    "#     kl_loss = -0.5 * K.sum(1 + log_var - K.square(mu)- K.exp(log_var), axis = 1)\n",
    "#     return kl_loss\n",
    "# def vae_loss(y_true, y_pred):\n",
    "#     r_loss = vae_r_loss(y_true, y_pred)\n",
    "#     kl_loss = vae_kl_loss(y_true, y_pred)\n",
    "#     return r_loss + kl_loss\n",
    "\n",
    "# optimizer = Adam(lr=learning_rate)\n",
    "# model.compile(optimizer=optimizer, loss = vae_loss, metrics = [vae_r_loss, vae_kl_loss])"
   ]
  },
  {
   "cell_type": "code",
   "execution_count": 147,
   "id": "9657a270",
   "metadata": {},
   "outputs": [],
   "source": [
    "# optimizer = Adam(lr=0.005)\n",
    "# model.compile(optimizer,loss='mse')"
   ]
  },
  {
   "cell_type": "code",
   "execution_count": 148,
   "id": "a17c3cf4",
   "metadata": {},
   "outputs": [
    {
     "name": "stdout",
     "output_type": "stream",
     "text": [
      "Epoch 1/10\n",
      "27/27 [==============================] - 5s 153ms/step - loss: 0.0157\n",
      "Epoch 2/10\n",
      "27/27 [==============================] - 4s 153ms/step - loss: 0.0012\n",
      "Epoch 3/10\n",
      "27/27 [==============================] - 4s 135ms/step - loss: 5.5465e-04\n",
      "Epoch 4/10\n",
      "27/27 [==============================] - 3s 127ms/step - loss: 7.9232e-04\n",
      "Epoch 5/10\n",
      "27/27 [==============================] - 3s 124ms/step - loss: 4.8879e-04\n",
      "Epoch 6/10\n",
      "27/27 [==============================] - 3s 127ms/step - loss: 4.8389e-04\n",
      "Epoch 7/10\n",
      "27/27 [==============================] - 3s 124ms/step - loss: 8.3566e-04\n",
      "Epoch 8/10\n",
      "27/27 [==============================] - 3s 120ms/step - loss: 0.0011\n",
      "Epoch 9/10\n",
      "27/27 [==============================] - 4s 137ms/step - loss: 3.2664e-04\n",
      "Epoch 10/10\n",
      "27/27 [==============================] - 4s 131ms/step - loss: 3.4783e-04\n"
     ]
    },
    {
     "data": {
      "text/plain": [
       "<keras.callbacks.History at 0x22568435880>"
      ]
     },
     "execution_count": 148,
     "metadata": {},
     "output_type": "execute_result"
    }
   ],
   "source": [
    "model.fit(result, result, batch_size= 100, shuffle= True, epochs= 10)"
   ]
  },
  {
   "cell_type": "code",
   "execution_count": 149,
   "id": "fab391f9",
   "metadata": {
    "scrolled": true
   },
   "outputs": [
    {
     "name": "stdout",
     "output_type": "stream",
     "text": [
      "Epoch 1/10\n",
      "27/27 [==============================] - 3s 124ms/step - loss: 6.7111e-04\n",
      "Epoch 2/10\n",
      "27/27 [==============================] - 3s 117ms/step - loss: 5.8974e-04\n",
      "Epoch 3/10\n",
      "27/27 [==============================] - 3s 119ms/step - loss: 6.2715e-04\n",
      "Epoch 4/10\n",
      "27/27 [==============================] - 3s 119ms/step - loss: 3.3899e-04\n",
      "Epoch 5/10\n",
      "27/27 [==============================] - 3s 118ms/step - loss: 4.9684e-04\n",
      "Epoch 6/10\n",
      "27/27 [==============================] - 3s 119ms/step - loss: 4.2093e-04\n",
      "Epoch 7/10\n",
      "27/27 [==============================] - 3s 117ms/step - loss: 4.1913e-04\n",
      "Epoch 8/10\n",
      "27/27 [==============================] - 3s 124ms/step - loss: 3.5489e-04\n",
      "Epoch 9/10\n",
      "27/27 [==============================] - 3s 120ms/step - loss: 3.9638e-04\n",
      "Epoch 10/10\n",
      "27/27 [==============================] - 3s 118ms/step - loss: 2.4273e-04\n"
     ]
    },
    {
     "data": {
      "text/plain": [
       "<keras.callbacks.History at 0x22568578220>"
      ]
     },
     "execution_count": 149,
     "metadata": {},
     "output_type": "execute_result"
    }
   ],
   "source": [
    " model.fit(result, result, batch_size= 100, shuffle= True, epochs= 10)"
   ]
  },
  {
   "cell_type": "code",
   "execution_count": null,
   "id": "4123562d",
   "metadata": {},
   "outputs": [
    {
     "name": "stdout",
     "output_type": "stream",
     "text": [
      "Epoch 1/10\n",
      "27/27 [==============================] - 4s 133ms/step - loss: 2.9618e-04\n",
      "Epoch 2/10\n",
      "27/27 [==============================] - 3s 124ms/step - loss: 5.0680e-04\n",
      "Epoch 3/10\n",
      "27/27 [==============================] - 3s 106ms/step - loss: 4.2922e-04\n",
      "Epoch 4/10\n",
      "27/27 [==============================] - 3s 111ms/step - loss: 3.6434e-04\n",
      "Epoch 5/10\n",
      "27/27 [==============================] - 3s 111ms/step - loss: 4.4244e-04\n",
      "Epoch 6/10\n",
      "27/27 [==============================] - 3s 112ms/step - loss: 2.7181e-04\n",
      "Epoch 7/10\n",
      "27/27 [==============================] - 3s 129ms/step - loss: 2.5093e-04\n",
      "Epoch 8/10\n",
      "27/27 [==============================] - 4s 130ms/step - loss: 3.1601e-04\n",
      "Epoch 9/10\n",
      "11/27 [===========>..................] - ETA: 2s - loss: 2.0342e-04"
     ]
    }
   ],
   "source": [
    " model.fit(result, result, batch_size= 100, shuffle= True, epochs= 10)"
   ]
  },
  {
   "cell_type": "code",
   "execution_count": 151,
   "id": "a347c5c5",
   "metadata": {},
   "outputs": [
    {
     "name": "stdout",
     "output_type": "stream",
     "text": [
      "83/83 [==============================] - 1s 14ms/step\n"
     ]
    }
   ],
   "source": [
    "final = model.predict(\n",
    "    result,\n",
    "    batch_size = None,\n",
    "    verbose = 'auto',\n",
    "    steps = None,\n",
    "    callbacks = None,\n",
    "    max_queue_size = 10,\n",
    "    workers = 1,\n",
    "    use_multiprocessing=False\n",
    ")"
   ]
  },
  {
   "cell_type": "code",
   "execution_count": 152,
   "id": "dae05b2d",
   "metadata": {},
   "outputs": [
    {
     "data": {
      "text/plain": [
       "(2628, 64, 64, 1)"
      ]
     },
     "execution_count": 152,
     "metadata": {},
     "output_type": "execute_result"
    }
   ],
   "source": [
    "final.shape"
   ]
  },
  {
   "cell_type": "code",
   "execution_count": 153,
   "id": "23a7ef7c",
   "metadata": {},
   "outputs": [
    {
     "data": {
      "text/plain": [
       "array([[[[0.32504094],\n",
       "         [0.3162278 ],\n",
       "         [0.32429093],\n",
       "         ...,\n",
       "         [0.36225522],\n",
       "         [0.35580456],\n",
       "         [0.33624166]],\n",
       "\n",
       "        [[0.3466764 ],\n",
       "         [0.33698034],\n",
       "         [0.33396974],\n",
       "         ...,\n",
       "         [0.37515578],\n",
       "         [0.37026763],\n",
       "         [0.36487794]],\n",
       "\n",
       "        [[0.35616487],\n",
       "         [0.34258097],\n",
       "         [0.3349442 ],\n",
       "         ...,\n",
       "         [0.3678375 ],\n",
       "         [0.3578874 ],\n",
       "         [0.35286498]],\n",
       "\n",
       "        ...,\n",
       "\n",
       "        [[0.2970323 ],\n",
       "         [0.30135024],\n",
       "         [0.29651648],\n",
       "         ...,\n",
       "         [0.30119944],\n",
       "         [0.28691804],\n",
       "         [0.28234974]],\n",
       "\n",
       "        [[0.29064327],\n",
       "         [0.29454118],\n",
       "         [0.28739053],\n",
       "         ...,\n",
       "         [0.2993367 ],\n",
       "         [0.28996152],\n",
       "         [0.2853255 ]],\n",
       "\n",
       "        [[0.30191648],\n",
       "         [0.31092858],\n",
       "         [0.29311222],\n",
       "         ...,\n",
       "         [0.30703315],\n",
       "         [0.29045838],\n",
       "         [0.29493418]]],\n",
       "\n",
       "\n",
       "       [[[0.33877304],\n",
       "         [0.33250996],\n",
       "         [0.34510922],\n",
       "         ...,\n",
       "         [0.55901253],\n",
       "         [0.57687294],\n",
       "         [0.56640613]],\n",
       "\n",
       "        [[0.35429114],\n",
       "         [0.353584  ],\n",
       "         [0.3519296 ],\n",
       "         ...,\n",
       "         [0.5440835 ],\n",
       "         [0.5745414 ],\n",
       "         [0.5873203 ]],\n",
       "\n",
       "        [[0.3534012 ],\n",
       "         [0.3514015 ],\n",
       "         [0.34570646],\n",
       "         ...,\n",
       "         [0.46091247],\n",
       "         [0.50570196],\n",
       "         [0.507192  ]],\n",
       "\n",
       "        ...,\n",
       "\n",
       "        [[0.25409627],\n",
       "         [0.26883316],\n",
       "         [0.2526487 ],\n",
       "         ...,\n",
       "         [0.3883278 ],\n",
       "         [0.37301227],\n",
       "         [0.36575067]],\n",
       "\n",
       "        [[0.26767188],\n",
       "         [0.26036006],\n",
       "         [0.24225706],\n",
       "         ...,\n",
       "         [0.39206687],\n",
       "         [0.3725855 ],\n",
       "         [0.3382163 ]],\n",
       "\n",
       "        [[0.27918148],\n",
       "         [0.27315992],\n",
       "         [0.24800286],\n",
       "         ...,\n",
       "         [0.4281026 ],\n",
       "         [0.39101136],\n",
       "         [0.3605634 ]]],\n",
       "\n",
       "\n",
       "       [[[0.55686224],\n",
       "         [0.536366  ],\n",
       "         [0.49589756],\n",
       "         ...,\n",
       "         [0.28144723],\n",
       "         [0.29548478],\n",
       "         [0.29605103]],\n",
       "\n",
       "        [[0.5843406 ],\n",
       "         [0.5740019 ],\n",
       "         [0.54842836],\n",
       "         ...,\n",
       "         [0.2812342 ],\n",
       "         [0.28662676],\n",
       "         [0.304044  ]],\n",
       "\n",
       "        [[0.52535415],\n",
       "         [0.5300293 ],\n",
       "         [0.515348  ],\n",
       "         ...,\n",
       "         [0.27087015],\n",
       "         [0.2696043 ],\n",
       "         [0.28424472]],\n",
       "\n",
       "        ...,\n",
       "\n",
       "        [[0.34664655],\n",
       "         [0.3466991 ],\n",
       "         [0.3404552 ],\n",
       "         ...,\n",
       "         [0.28944552],\n",
       "         [0.27322912],\n",
       "         [0.27496192]],\n",
       "\n",
       "        [[0.3333637 ],\n",
       "         [0.3421959 ],\n",
       "         [0.33932292],\n",
       "         ...,\n",
       "         [0.28727287],\n",
       "         [0.26531592],\n",
       "         [0.25887704]],\n",
       "\n",
       "        [[0.3314528 ],\n",
       "         [0.3475883 ],\n",
       "         [0.34398842],\n",
       "         ...,\n",
       "         [0.3078528 ],\n",
       "         [0.2638753 ],\n",
       "         [0.2553683 ]]],\n",
       "\n",
       "\n",
       "       ...,\n",
       "\n",
       "\n",
       "       [[[0.30553183],\n",
       "         [0.31481016],\n",
       "         [0.32773048],\n",
       "         ...,\n",
       "         [0.2094369 ],\n",
       "         [0.21231672],\n",
       "         [0.23444378]],\n",
       "\n",
       "        [[0.2869926 ],\n",
       "         [0.31000364],\n",
       "         [0.32049805],\n",
       "         ...,\n",
       "         [0.22094105],\n",
       "         [0.21378508],\n",
       "         [0.22876605]],\n",
       "\n",
       "        [[0.26424736],\n",
       "         [0.28342497],\n",
       "         [0.30366516],\n",
       "         ...,\n",
       "         [0.22147949],\n",
       "         [0.22855741],\n",
       "         [0.22519022]],\n",
       "\n",
       "        ...,\n",
       "\n",
       "        [[0.26501328],\n",
       "         [0.28193048],\n",
       "         [0.27441338],\n",
       "         ...,\n",
       "         [0.21614394],\n",
       "         [0.19373582],\n",
       "         [0.21451299]],\n",
       "\n",
       "        [[0.24651773],\n",
       "         [0.2680512 ],\n",
       "         [0.26747012],\n",
       "         ...,\n",
       "         [0.22250518],\n",
       "         [0.21391414],\n",
       "         [0.2151867 ]],\n",
       "\n",
       "        [[0.24240811],\n",
       "         [0.2677953 ],\n",
       "         [0.26186067],\n",
       "         ...,\n",
       "         [0.22774073],\n",
       "         [0.21196285],\n",
       "         [0.2228984 ]]],\n",
       "\n",
       "\n",
       "       [[[0.24724443],\n",
       "         [0.24006459],\n",
       "         [0.22333127],\n",
       "         ...,\n",
       "         [0.23948567],\n",
       "         [0.22027476],\n",
       "         [0.20636299]],\n",
       "\n",
       "        [[0.23184524],\n",
       "         [0.2475959 ],\n",
       "         [0.22818276],\n",
       "         ...,\n",
       "         [0.24255131],\n",
       "         [0.21929792],\n",
       "         [0.20851538]],\n",
       "\n",
       "        [[0.2207255 ],\n",
       "         [0.23969984],\n",
       "         [0.23092349],\n",
       "         ...,\n",
       "         [0.23949483],\n",
       "         [0.22922337],\n",
       "         [0.21810365]],\n",
       "\n",
       "        ...,\n",
       "\n",
       "        [[0.19227448],\n",
       "         [0.21188673],\n",
       "         [0.19829307],\n",
       "         ...,\n",
       "         [0.23387554],\n",
       "         [0.21044557],\n",
       "         [0.24361178]],\n",
       "\n",
       "        [[0.21145153],\n",
       "         [0.2054224 ],\n",
       "         [0.1917682 ],\n",
       "         ...,\n",
       "         [0.22971281],\n",
       "         [0.2256962 ],\n",
       "         [0.23483434]],\n",
       "\n",
       "        [[0.21139517],\n",
       "         [0.21374455],\n",
       "         [0.1858702 ],\n",
       "         ...,\n",
       "         [0.24043423],\n",
       "         [0.21517688],\n",
       "         [0.22816283]]],\n",
       "\n",
       "\n",
       "       [[[0.19266924],\n",
       "         [0.19669633],\n",
       "         [0.19275762],\n",
       "         ...,\n",
       "         [0.14971398],\n",
       "         [0.16695142],\n",
       "         [0.19763324]],\n",
       "\n",
       "        [[0.1724335 ],\n",
       "         [0.19184712],\n",
       "         [0.17991567],\n",
       "         ...,\n",
       "         [0.14470728],\n",
       "         [0.15094854],\n",
       "         [0.17941916]],\n",
       "\n",
       "        [[0.19350585],\n",
       "         [0.19016832],\n",
       "         [0.18291703],\n",
       "         ...,\n",
       "         [0.14805947],\n",
       "         [0.15741803],\n",
       "         [0.17884615]],\n",
       "\n",
       "        ...,\n",
       "\n",
       "        [[0.20252493],\n",
       "         [0.21227783],\n",
       "         [0.19331089],\n",
       "         ...,\n",
       "         [0.29541665],\n",
       "         [0.28932244],\n",
       "         [0.23745927]],\n",
       "\n",
       "        [[0.21059057],\n",
       "         [0.20665029],\n",
       "         [0.19587289],\n",
       "         ...,\n",
       "         [0.26307195],\n",
       "         [0.27955455],\n",
       "         [0.24721801]],\n",
       "\n",
       "        [[0.20405146],\n",
       "         [0.20955923],\n",
       "         [0.18882263],\n",
       "         ...,\n",
       "         [0.24257906],\n",
       "         [0.23743758],\n",
       "         [0.23267856]]]], dtype=float32)"
      ]
     },
     "execution_count": 153,
     "metadata": {},
     "output_type": "execute_result"
    }
   ],
   "source": [
    "final"
   ]
  },
  {
   "cell_type": "code",
   "execution_count": 154,
   "id": "a4f3a602",
   "metadata": {},
   "outputs": [],
   "source": [
    "final=final*255"
   ]
  },
  {
   "cell_type": "code",
   "execution_count": 155,
   "id": "576f21dc",
   "metadata": {},
   "outputs": [
    {
     "data": {
      "text/plain": [
       "array([[[[ 82.88544 ],\n",
       "         [ 80.638084],\n",
       "         [ 82.69419 ],\n",
       "         ...,\n",
       "         [ 92.37508 ],\n",
       "         [ 90.73016 ],\n",
       "         [ 85.74162 ]],\n",
       "\n",
       "        [[ 88.40248 ],\n",
       "         [ 85.929985],\n",
       "         [ 85.162285],\n",
       "         ...,\n",
       "         [ 95.66473 ],\n",
       "         [ 94.41824 ],\n",
       "         [ 93.04388 ]],\n",
       "\n",
       "        [[ 90.822044],\n",
       "         [ 87.35815 ],\n",
       "         [ 85.41077 ],\n",
       "         ...,\n",
       "         [ 93.79856 ],\n",
       "         [ 91.261284],\n",
       "         [ 89.98057 ]],\n",
       "\n",
       "        ...,\n",
       "\n",
       "        [[ 75.74323 ],\n",
       "         [ 76.84431 ],\n",
       "         [ 75.6117  ],\n",
       "         ...,\n",
       "         [ 76.805855],\n",
       "         [ 73.1641  ],\n",
       "         [ 71.99918 ]],\n",
       "\n",
       "        [[ 74.11404 ],\n",
       "         [ 75.108   ],\n",
       "         [ 73.284584],\n",
       "         ...,\n",
       "         [ 76.33086 ],\n",
       "         [ 73.940186],\n",
       "         [ 72.758   ]],\n",
       "\n",
       "        [[ 76.9887  ],\n",
       "         [ 79.28679 ],\n",
       "         [ 74.743614],\n",
       "         ...,\n",
       "         [ 78.29346 ],\n",
       "         [ 74.06689 ],\n",
       "         [ 75.20821 ]]],\n",
       "\n",
       "\n",
       "       [[[ 86.38712 ],\n",
       "         [ 84.79004 ],\n",
       "         [ 88.00285 ],\n",
       "         ...,\n",
       "         [142.5482  ],\n",
       "         [147.1026  ],\n",
       "         [144.43356 ]],\n",
       "\n",
       "        [[ 90.34424 ],\n",
       "         [ 90.16392 ],\n",
       "         [ 89.74205 ],\n",
       "         ...,\n",
       "         [138.74129 ],\n",
       "         [146.50806 ],\n",
       "         [149.76668 ]],\n",
       "\n",
       "        [[ 90.11731 ],\n",
       "         [ 89.60738 ],\n",
       "         [ 88.15515 ],\n",
       "         ...,\n",
       "         [117.53268 ],\n",
       "         [128.954   ],\n",
       "         [129.33397 ]],\n",
       "\n",
       "        ...,\n",
       "\n",
       "        [[ 64.79455 ],\n",
       "         [ 68.55246 ],\n",
       "         [ 64.42542 ],\n",
       "         ...,\n",
       "         [ 99.02359 ],\n",
       "         [ 95.11813 ],\n",
       "         [ 93.26642 ]],\n",
       "\n",
       "        [[ 68.25633 ],\n",
       "         [ 66.391815],\n",
       "         [ 61.77555 ],\n",
       "         ...,\n",
       "         [ 99.97705 ],\n",
       "         [ 95.0093  ],\n",
       "         [ 86.245155]],\n",
       "\n",
       "        [[ 71.19128 ],\n",
       "         [ 69.65578 ],\n",
       "         [ 63.24073 ],\n",
       "         ...,\n",
       "         [109.16617 ],\n",
       "         [ 99.70789 ],\n",
       "         [ 91.943665]]],\n",
       "\n",
       "\n",
       "       [[[141.99986 ],\n",
       "         [136.77333 ],\n",
       "         [126.45388 ],\n",
       "         ...,\n",
       "         [ 71.76904 ],\n",
       "         [ 75.34862 ],\n",
       "         [ 75.49301 ]],\n",
       "\n",
       "        [[149.00685 ],\n",
       "         [146.37048 ],\n",
       "         [139.84923 ],\n",
       "         ...,\n",
       "         [ 71.71472 ],\n",
       "         [ 73.08982 ],\n",
       "         [ 77.53122 ]],\n",
       "\n",
       "        [[133.9653  ],\n",
       "         [135.15747 ],\n",
       "         [131.41374 ],\n",
       "         ...,\n",
       "         [ 69.07189 ],\n",
       "         [ 68.74909 ],\n",
       "         [ 72.4824  ]],\n",
       "\n",
       "        ...,\n",
       "\n",
       "        [[ 88.39487 ],\n",
       "         [ 88.408264],\n",
       "         [ 86.81608 ],\n",
       "         ...,\n",
       "         [ 73.80861 ],\n",
       "         [ 69.67342 ],\n",
       "         [ 70.11529 ]],\n",
       "\n",
       "        [[ 85.007744],\n",
       "         [ 87.25996 ],\n",
       "         [ 86.52734 ],\n",
       "         ...,\n",
       "         [ 73.254585],\n",
       "         [ 67.65556 ],\n",
       "         [ 66.01364 ]],\n",
       "\n",
       "        [[ 84.52046 ],\n",
       "         [ 88.63502 ],\n",
       "         [ 87.71705 ],\n",
       "         ...,\n",
       "         [ 78.502464],\n",
       "         [ 67.2882  ],\n",
       "         [ 65.11891 ]]],\n",
       "\n",
       "\n",
       "       ...,\n",
       "\n",
       "\n",
       "       [[[ 77.910614],\n",
       "         [ 80.27659 ],\n",
       "         [ 83.57127 ],\n",
       "         ...,\n",
       "         [ 53.406406],\n",
       "         [ 54.140762],\n",
       "         [ 59.783165]],\n",
       "\n",
       "        [[ 73.18311 ],\n",
       "         [ 79.05093 ],\n",
       "         [ 81.727005],\n",
       "         ...,\n",
       "         [ 56.33997 ],\n",
       "         [ 54.515198],\n",
       "         [ 58.335342]],\n",
       "\n",
       "        [[ 67.38308 ],\n",
       "         [ 72.27337 ],\n",
       "         [ 77.434616],\n",
       "         ...,\n",
       "         [ 56.47727 ],\n",
       "         [ 58.28214 ],\n",
       "         [ 57.423508]],\n",
       "\n",
       "        ...,\n",
       "\n",
       "        [[ 67.578384],\n",
       "         [ 71.89227 ],\n",
       "         [ 69.97541 ],\n",
       "         ...,\n",
       "         [ 55.116703],\n",
       "         [ 49.402634],\n",
       "         [ 54.700813]],\n",
       "\n",
       "        [[ 62.862022],\n",
       "         [ 68.35306 ],\n",
       "         [ 68.20488 ],\n",
       "         ...,\n",
       "         [ 56.738823],\n",
       "         [ 54.548107],\n",
       "         [ 54.87261 ]],\n",
       "\n",
       "        [[ 61.814068],\n",
       "         [ 68.2878  ],\n",
       "         [ 66.77447 ],\n",
       "         ...,\n",
       "         [ 58.073887],\n",
       "         [ 54.050526],\n",
       "         [ 56.839092]]],\n",
       "\n",
       "\n",
       "       [[[ 63.04733 ],\n",
       "         [ 61.216473],\n",
       "         [ 56.949474],\n",
       "         ...,\n",
       "         [ 61.068844],\n",
       "         [ 56.170063],\n",
       "         [ 52.622562]],\n",
       "\n",
       "        [[ 59.120537],\n",
       "         [ 63.136955],\n",
       "         [ 58.186604],\n",
       "         ...,\n",
       "         [ 61.850586],\n",
       "         [ 55.920967],\n",
       "         [ 53.17142 ]],\n",
       "\n",
       "        [[ 56.285004],\n",
       "         [ 61.12346 ],\n",
       "         [ 58.88549 ],\n",
       "         ...,\n",
       "         [ 61.071182],\n",
       "         [ 58.451958],\n",
       "         [ 55.61643 ]],\n",
       "\n",
       "        ...,\n",
       "\n",
       "        [[ 49.02999 ],\n",
       "         [ 54.031116],\n",
       "         [ 50.564735],\n",
       "         ...,\n",
       "         [ 59.638264],\n",
       "         [ 53.66362 ],\n",
       "         [ 62.121006]],\n",
       "\n",
       "        [[ 53.92014 ],\n",
       "         [ 52.382713],\n",
       "         [ 48.90089 ],\n",
       "         ...,\n",
       "         [ 58.576767],\n",
       "         [ 57.552532],\n",
       "         [ 59.88276 ]],\n",
       "\n",
       "        [[ 53.90577 ],\n",
       "         [ 54.50486 ],\n",
       "         [ 47.3969  ],\n",
       "         ...,\n",
       "         [ 61.31073 ],\n",
       "         [ 54.870106],\n",
       "         [ 58.18152 ]]],\n",
       "\n",
       "\n",
       "       [[[ 49.130657],\n",
       "         [ 50.157562],\n",
       "         [ 49.153194],\n",
       "         ...,\n",
       "         [ 38.177063],\n",
       "         [ 42.572613],\n",
       "         [ 50.396477]],\n",
       "\n",
       "        [[ 43.970543],\n",
       "         [ 48.921013],\n",
       "         [ 45.878494],\n",
       "         ...,\n",
       "         [ 36.900356],\n",
       "         [ 38.49188 ],\n",
       "         [ 45.751884]],\n",
       "\n",
       "        [[ 49.343994],\n",
       "         [ 48.492924],\n",
       "         [ 46.64384 ],\n",
       "         ...,\n",
       "         [ 37.755165],\n",
       "         [ 40.141598],\n",
       "         [ 45.60577 ]],\n",
       "\n",
       "        ...,\n",
       "\n",
       "        [[ 51.643856],\n",
       "         [ 54.130848],\n",
       "         [ 49.294277],\n",
       "         ...,\n",
       "         [ 75.331245],\n",
       "         [ 73.77722 ],\n",
       "         [ 60.552113]],\n",
       "\n",
       "        [[ 53.700596],\n",
       "         [ 52.695824],\n",
       "         [ 49.947586],\n",
       "         ...,\n",
       "         [ 67.08335 ],\n",
       "         [ 71.28641 ],\n",
       "         [ 63.040592]],\n",
       "\n",
       "        [[ 52.033123],\n",
       "         [ 53.437603],\n",
       "         [ 48.14977 ],\n",
       "         ...,\n",
       "         [ 61.85766 ],\n",
       "         [ 60.54658 ],\n",
       "         [ 59.333035]]]], dtype=float32)"
      ]
     },
     "execution_count": 155,
     "metadata": {},
     "output_type": "execute_result"
    }
   ],
   "source": [
    "final"
   ]
  },
  {
   "cell_type": "code",
   "execution_count": 156,
   "id": "c7aa2e95",
   "metadata": {},
   "outputs": [
    {
     "data": {
      "text/plain": [
       "array([[[[ 82],\n",
       "         [ 80],\n",
       "         [ 82],\n",
       "         ...,\n",
       "         [ 92],\n",
       "         [ 90],\n",
       "         [ 85]],\n",
       "\n",
       "        [[ 88],\n",
       "         [ 85],\n",
       "         [ 85],\n",
       "         ...,\n",
       "         [ 95],\n",
       "         [ 94],\n",
       "         [ 93]],\n",
       "\n",
       "        [[ 90],\n",
       "         [ 87],\n",
       "         [ 85],\n",
       "         ...,\n",
       "         [ 93],\n",
       "         [ 91],\n",
       "         [ 89]],\n",
       "\n",
       "        ...,\n",
       "\n",
       "        [[ 75],\n",
       "         [ 76],\n",
       "         [ 75],\n",
       "         ...,\n",
       "         [ 76],\n",
       "         [ 73],\n",
       "         [ 71]],\n",
       "\n",
       "        [[ 74],\n",
       "         [ 75],\n",
       "         [ 73],\n",
       "         ...,\n",
       "         [ 76],\n",
       "         [ 73],\n",
       "         [ 72]],\n",
       "\n",
       "        [[ 76],\n",
       "         [ 79],\n",
       "         [ 74],\n",
       "         ...,\n",
       "         [ 78],\n",
       "         [ 74],\n",
       "         [ 75]]],\n",
       "\n",
       "\n",
       "       [[[ 86],\n",
       "         [ 84],\n",
       "         [ 88],\n",
       "         ...,\n",
       "         [142],\n",
       "         [147],\n",
       "         [144]],\n",
       "\n",
       "        [[ 90],\n",
       "         [ 90],\n",
       "         [ 89],\n",
       "         ...,\n",
       "         [138],\n",
       "         [146],\n",
       "         [149]],\n",
       "\n",
       "        [[ 90],\n",
       "         [ 89],\n",
       "         [ 88],\n",
       "         ...,\n",
       "         [117],\n",
       "         [128],\n",
       "         [129]],\n",
       "\n",
       "        ...,\n",
       "\n",
       "        [[ 64],\n",
       "         [ 68],\n",
       "         [ 64],\n",
       "         ...,\n",
       "         [ 99],\n",
       "         [ 95],\n",
       "         [ 93]],\n",
       "\n",
       "        [[ 68],\n",
       "         [ 66],\n",
       "         [ 61],\n",
       "         ...,\n",
       "         [ 99],\n",
       "         [ 95],\n",
       "         [ 86]],\n",
       "\n",
       "        [[ 71],\n",
       "         [ 69],\n",
       "         [ 63],\n",
       "         ...,\n",
       "         [109],\n",
       "         [ 99],\n",
       "         [ 91]]],\n",
       "\n",
       "\n",
       "       [[[141],\n",
       "         [136],\n",
       "         [126],\n",
       "         ...,\n",
       "         [ 71],\n",
       "         [ 75],\n",
       "         [ 75]],\n",
       "\n",
       "        [[149],\n",
       "         [146],\n",
       "         [139],\n",
       "         ...,\n",
       "         [ 71],\n",
       "         [ 73],\n",
       "         [ 77]],\n",
       "\n",
       "        [[133],\n",
       "         [135],\n",
       "         [131],\n",
       "         ...,\n",
       "         [ 69],\n",
       "         [ 68],\n",
       "         [ 72]],\n",
       "\n",
       "        ...,\n",
       "\n",
       "        [[ 88],\n",
       "         [ 88],\n",
       "         [ 86],\n",
       "         ...,\n",
       "         [ 73],\n",
       "         [ 69],\n",
       "         [ 70]],\n",
       "\n",
       "        [[ 85],\n",
       "         [ 87],\n",
       "         [ 86],\n",
       "         ...,\n",
       "         [ 73],\n",
       "         [ 67],\n",
       "         [ 66]],\n",
       "\n",
       "        [[ 84],\n",
       "         [ 88],\n",
       "         [ 87],\n",
       "         ...,\n",
       "         [ 78],\n",
       "         [ 67],\n",
       "         [ 65]]],\n",
       "\n",
       "\n",
       "       ...,\n",
       "\n",
       "\n",
       "       [[[ 77],\n",
       "         [ 80],\n",
       "         [ 83],\n",
       "         ...,\n",
       "         [ 53],\n",
       "         [ 54],\n",
       "         [ 59]],\n",
       "\n",
       "        [[ 73],\n",
       "         [ 79],\n",
       "         [ 81],\n",
       "         ...,\n",
       "         [ 56],\n",
       "         [ 54],\n",
       "         [ 58]],\n",
       "\n",
       "        [[ 67],\n",
       "         [ 72],\n",
       "         [ 77],\n",
       "         ...,\n",
       "         [ 56],\n",
       "         [ 58],\n",
       "         [ 57]],\n",
       "\n",
       "        ...,\n",
       "\n",
       "        [[ 67],\n",
       "         [ 71],\n",
       "         [ 69],\n",
       "         ...,\n",
       "         [ 55],\n",
       "         [ 49],\n",
       "         [ 54]],\n",
       "\n",
       "        [[ 62],\n",
       "         [ 68],\n",
       "         [ 68],\n",
       "         ...,\n",
       "         [ 56],\n",
       "         [ 54],\n",
       "         [ 54]],\n",
       "\n",
       "        [[ 61],\n",
       "         [ 68],\n",
       "         [ 66],\n",
       "         ...,\n",
       "         [ 58],\n",
       "         [ 54],\n",
       "         [ 56]]],\n",
       "\n",
       "\n",
       "       [[[ 63],\n",
       "         [ 61],\n",
       "         [ 56],\n",
       "         ...,\n",
       "         [ 61],\n",
       "         [ 56],\n",
       "         [ 52]],\n",
       "\n",
       "        [[ 59],\n",
       "         [ 63],\n",
       "         [ 58],\n",
       "         ...,\n",
       "         [ 61],\n",
       "         [ 55],\n",
       "         [ 53]],\n",
       "\n",
       "        [[ 56],\n",
       "         [ 61],\n",
       "         [ 58],\n",
       "         ...,\n",
       "         [ 61],\n",
       "         [ 58],\n",
       "         [ 55]],\n",
       "\n",
       "        ...,\n",
       "\n",
       "        [[ 49],\n",
       "         [ 54],\n",
       "         [ 50],\n",
       "         ...,\n",
       "         [ 59],\n",
       "         [ 53],\n",
       "         [ 62]],\n",
       "\n",
       "        [[ 53],\n",
       "         [ 52],\n",
       "         [ 48],\n",
       "         ...,\n",
       "         [ 58],\n",
       "         [ 57],\n",
       "         [ 59]],\n",
       "\n",
       "        [[ 53],\n",
       "         [ 54],\n",
       "         [ 47],\n",
       "         ...,\n",
       "         [ 61],\n",
       "         [ 54],\n",
       "         [ 58]]],\n",
       "\n",
       "\n",
       "       [[[ 49],\n",
       "         [ 50],\n",
       "         [ 49],\n",
       "         ...,\n",
       "         [ 38],\n",
       "         [ 42],\n",
       "         [ 50]],\n",
       "\n",
       "        [[ 43],\n",
       "         [ 48],\n",
       "         [ 45],\n",
       "         ...,\n",
       "         [ 36],\n",
       "         [ 38],\n",
       "         [ 45]],\n",
       "\n",
       "        [[ 49],\n",
       "         [ 48],\n",
       "         [ 46],\n",
       "         ...,\n",
       "         [ 37],\n",
       "         [ 40],\n",
       "         [ 45]],\n",
       "\n",
       "        ...,\n",
       "\n",
       "        [[ 51],\n",
       "         [ 54],\n",
       "         [ 49],\n",
       "         ...,\n",
       "         [ 75],\n",
       "         [ 73],\n",
       "         [ 60]],\n",
       "\n",
       "        [[ 53],\n",
       "         [ 52],\n",
       "         [ 49],\n",
       "         ...,\n",
       "         [ 67],\n",
       "         [ 71],\n",
       "         [ 63]],\n",
       "\n",
       "        [[ 52],\n",
       "         [ 53],\n",
       "         [ 48],\n",
       "         ...,\n",
       "         [ 61],\n",
       "         [ 60],\n",
       "         [ 59]]]])"
      ]
     },
     "execution_count": 156,
     "metadata": {},
     "output_type": "execute_result"
    }
   ],
   "source": [
    "final.astype(int)"
   ]
  },
  {
   "cell_type": "code",
   "execution_count": 157,
   "id": "a4d3eab5",
   "metadata": {},
   "outputs": [
    {
     "data": {
      "text/plain": [
       "(64, 64, 1)"
      ]
     },
     "execution_count": 157,
     "metadata": {},
     "output_type": "execute_result"
    }
   ],
   "source": [
    "final[0].shape"
   ]
  },
  {
   "cell_type": "code",
   "execution_count": 158,
   "id": "d66d08be",
   "metadata": {},
   "outputs": [
    {
     "data": {
      "text/plain": [
       "<matplotlib.image.AxesImage at 0x225686057c0>"
      ]
     },
     "execution_count": 158,
     "metadata": {},
     "output_type": "execute_result"
    },
    {
     "data": {
      "image/png": "[encoded data removed]",
      "text/plain": [
       "<Figure size 432x288 with 1 Axes>"
      ]
     },
     "metadata": {
      "needs_background": "light"
     },
     "output_type": "display_data"
    }
   ],
   "source": [
    "plt.imshow(final[0])"
   ]
  },
  {
   "cell_type": "code",
   "execution_count": 159,
   "id": "ed0ef659",
   "metadata": {},
   "outputs": [
    {
     "data": {
      "text/plain": [
       "<matplotlib.image.AxesImage at 0x22568680670>"
      ]
     },
     "execution_count": 159,
     "metadata": {},
     "output_type": "execute_result"
    },
    {
     "data": {
      "image/png": "[encoded data removed]",
      "text/plain": [
       "<Figure size 432x288 with 1 Axes>"
      ]
     },
     "metadata": {
      "needs_background": "light"
     },
     "output_type": "display_data"
    }
   ],
   "source": [
    "plt.imshow(result[0])"
   ]
  },
  {
   "cell_type": "code",
   "execution_count": 160,
   "id": "990dbaed",
   "metadata": {},
   "outputs": [
    {
     "name": "stdout",
     "output_type": "stream",
     "text": [
      "Model: \"model_8\"\n",
      "_________________________________________________________________\n",
      " Layer (type)                Output Shape              Param #   \n",
      "=================================================================\n",
      " input_3 (InputLayer)        [(None, 16, 16, 32)]      0         \n",
      "                                                                 \n",
      " conv2d_transpose_4 (Conv2DT  (None, 32, 32, 64)       8256      \n",
      " ranspose)                                                       \n",
      "                                                                 \n",
      " conv2d_transpose_5 (Conv2DT  (None, 64, 64, 1)        257       \n",
      " ranspose)                                                       \n",
      "                                                                 \n",
      "=================================================================\n",
      "Total params: 8,513\n",
      "Trainable params: 8,513\n",
      "Non-trainable params: 0\n",
      "_________________________________________________________________\n"
     ]
    }
   ],
   "source": [
    "model2 = Model(y, conv2)\n",
    "model2.summary()"
   ]
  },
  {
   "cell_type": "code",
   "execution_count": 165,
   "id": "0caa5cc6",
   "metadata": {},
   "outputs": [],
   "source": [
    "a = np.random.rand(1,64,64,1)"
   ]
  },
  {
   "cell_type": "code",
   "execution_count": 167,
   "id": "bf1dc4f3",
   "metadata": {},
   "outputs": [
    {
     "name": "stdout",
     "output_type": "stream",
     "text": [
      "1/1 [==============================] - 0s 19ms/step\n"
     ]
    }
   ],
   "source": [
    "test = model.predict(\n",
    "    a,\n",
    "    batch_size = None,\n",
    "    verbose = 'auto',\n",
    "    steps = None,\n",
    "    callbacks = None,\n",
    "    max_queue_size = 10,\n",
    "    workers = 1,\n",
    "    use_multiprocessing=False\n",
    ")"
   ]
  },
  {
   "cell_type": "code",
   "execution_count": 168,
   "id": "48ec80b0",
   "metadata": {},
   "outputs": [
    {
     "data": {
      "text/plain": [
       "<matplotlib.image.AxesImage at 0x22568919670>"
      ]
     },
     "execution_count": 168,
     "metadata": {},
     "output_type": "execute_result"
    },
    {
     "data": {
      "image/png": "[encoded data removed]",
      "text/plain": [
       "<Figure size 432x288 with 1 Axes>"
      ]
     },
     "metadata": {
      "needs_background": "light"
     },
     "output_type": "display_data"
    }
   ],
   "source": [
    "plt.imshow(test[0])"
   ]
  },
  {
   "cell_type": "code",
   "execution_count": null,
   "id": "cad363d0",
   "metadata": {},
   "outputs": [],
   "source": []
  }
 ],
 "metadata": {
  "kernelspec": {
   "display_name": "Python 3 (ipykernel)",
   "language": "python",
   "name": "python3"
  },
  "language_info": {
   "codemirror_mode": {
    "name": "ipython",
    "version": 3
   },
   "file_extension": ".py",
   "mimetype": "text/x-python",
   "name": "python",
   "nbconvert_exporter": "python",
   "pygments_lexer": "ipython3",
   "version": "3.9.7"
  }
 },
 "nbformat": 4,
 "nbformat_minor": 5
}
